{
 "cells": [
  {
   "cell_type": "markdown",
   "id": "45722762-1b1f-4256-9d8c-df0276cc01b8",
   "metadata": {},
   "source": [
    "# Data Science Tools and Ecosystem"
   ]
  },
  {
   "cell_type": "markdown",
   "id": "14de59bd-c66f-4f78-8b4b-22a0d5e9c127",
   "metadata": {},
   "source": [
    "## Author\n",
    "Watcharaporn Duangkham"
   ]
  },
  {
   "cell_type": "markdown",
   "id": "ba3d1197-09da-4bdd-a216-2248637cf59b",
   "metadata": {},
   "source": [
    "In this notebook, Data Science Tools and Ecosystem are summarized."
   ]
  },
  {
   "cell_type": "markdown",
   "id": "c29858da-80db-48b8-8a34-5d53f2835168",
   "metadata": {},
   "source": [
    "__Objective:__\n",
    "* List of popular languages for Data Science\n",
    "* Data Science roadmap\n",
    "* Interview question for Data Science"
   ]
  },
  {
   "cell_type": "markdown",
   "id": "0c27452e-48a7-47e6-8887-202520705030",
   "metadata": {},
   "source": [
    "Some of the popular language that Data Scientist use are:\n",
    "1. Python\n",
    "2. R\n",
    "3. SQL"
   ]
  },
  {
   "cell_type": "markdown",
   "id": "5aef92d0-b450-4319-9d0d-281fc9f7658b",
   "metadata": {},
   "source": [
    "Some of the commonly used libraries used by Data Scientist include:\n",
    "1. Numpy\n",
    "2. Pandas\n",
    "3. Matplotlib"
   ]
  },
  {
   "cell_type": "markdown",
   "id": "c174090f-f4b3-438b-9273-5f89a5aab9c9",
   "metadata": {},
   "source": [
    "|Data Science Tools|\n",
    "|---|\n",
    "|Jupyter notebook|\n",
    "|Atom|\n",
    "|Pycharm|"
   ]
  },
  {
   "cell_type": "markdown",
   "id": "62c7fbb0-81bd-46c4-9a5b-b055f1118f8f",
   "metadata": {},
   "source": [
    "### Below are a few examples of evaluating arithmetic expressions in Python"
   ]
  },
  {
   "cell_type": "markdown",
   "id": "88f86b26-de82-4584-800b-06542a7c0250",
   "metadata": {},
   "source": [
    "This a simple arithmetic expression to multiply then add integers."
   ]
  },
  {
   "cell_type": "code",
   "execution_count": 1,
   "id": "94c6d8e5-c6cd-4990-bf8a-5755f0dd1382",
   "metadata": {},
   "outputs": [
    {
     "data": {
      "text/plain": [
       "17"
      ]
     },
     "execution_count": 1,
     "metadata": {},
     "output_type": "execute_result"
    }
   ],
   "source": [
    "(3*4)+5"
   ]
  },
  {
   "cell_type": "markdown",
   "id": "5e7f0ba8-5c62-45c8-8e43-d741423b77de",
   "metadata": {},
   "source": [
    "This will convert 200 minutes to hours by diving by 60"
   ]
  },
  {
   "cell_type": "code",
   "execution_count": 2,
   "id": "fab9a261-711d-4964-a33e-792a66563d85",
   "metadata": {},
   "outputs": [
    {
     "name": "stdout",
     "output_type": "stream",
     "text": [
      "3.3333333333333335\n"
     ]
    }
   ],
   "source": [
    "total_minutes = 200\n",
    "hours = total_minutes/60\n",
    "\n",
    "print(hours)\n"
   ]
  },
  {
   "cell_type": "code",
   "execution_count": null,
   "id": "2004834e-626a-4c6f-8624-85e51e27fcde",
   "metadata": {},
   "outputs": [],
   "source": []
  }
 ],
 "metadata": {
  "kernelspec": {
   "display_name": "Python",
   "language": "python",
   "name": "conda-env-python-py"
  },
  "language_info": {
   "codemirror_mode": {
    "name": "ipython",
    "version": 3
   },
   "file_extension": ".py",
   "mimetype": "text/x-python",
   "name": "python",
   "nbconvert_exporter": "python",
   "pygments_lexer": "ipython3",
   "version": "3.7.12"
  }
 },
 "nbformat": 4,
 "nbformat_minor": 5
}
